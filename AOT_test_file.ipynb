{
  "nbformat": 4,
  "nbformat_minor": 0,
  "metadata": {
    "colab": {
      "name": "AOT test file",
      "provenance": [],
      "include_colab_link": true
    },
    "kernelspec": {
      "name": "python3",
      "display_name": "Python 3"
    }
  },
  "cells": [
    {
      "cell_type": "markdown",
      "metadata": {
        "id": "view-in-github",
        "colab_type": "text"
      },
      "source": [
        "<a href=\"https://colab.research.google.com/github/sjut/CL-class/blob/master/AOT_test_file.ipynb\" target=\"_parent\"><img src=\"https://colab.research.google.com/assets/colab-badge.svg\" alt=\"Open In Colab\"/></a>"
      ]
    },
    {
      "cell_type": "code",
      "metadata": {
        "id": "w0DwaD2iuSWs",
        "colab_type": "code",
        "outputId": "6165e6f3-383b-436b-c8d2-34ec1c5c0b26",
        "colab": {
          "base_uri": "https://localhost:8080/",
          "height": 286
        }
      },
      "source": [
        "!wget http://vectors.nlpl.eu/repository/11/182.zip\n",
        "!mkdir 182\n",
        "!unzip 182.zip -d 182"
      ],
      "execution_count": 0,
      "outputs": [
        {
          "output_type": "stream",
          "text": [
            "--2019-12-26 13:26:15--  http://vectors.nlpl.eu/repository/11/182.zip\n",
            "Resolving vectors.nlpl.eu (vectors.nlpl.eu)... 129.240.189.225\n",
            "Connecting to vectors.nlpl.eu (vectors.nlpl.eu)|129.240.189.225|:80... connected.\n",
            "HTTP request sent, awaiting response... 200 OK\n",
            "Length: 637613765 (608M) [application/zip]\n",
            "Saving to: ‘182.zip’\n",
            "\n",
            "182.zip             100%[===================>] 608.08M  96.6MB/s    in 7.5s    \n",
            "\n",
            "2019-12-26 13:26:23 (81.6 MB/s) - ‘182.zip’ saved [637613765/637613765]\n",
            "\n",
            "Archive:  182.zip\n",
            "  inflating: 182/README              \n",
            "  inflating: 182/meta.json           \n",
            "  inflating: 182/model.bin           \n",
            "  inflating: 182/model.txt           \n"
          ],
          "name": "stdout"
        }
      ]
    },
    {
      "cell_type": "code",
      "metadata": {
        "id": "af0hEsF_vgsh",
        "colab_type": "code",
        "outputId": "b3942517-ccf4-4220-aa5e-1e3d83b9b3d1",
        "colab": {
          "base_uri": "https://localhost:8080/",
          "height": 70
        }
      },
      "source": [
        "from gensim.models import KeyedVectors\n",
        "\n",
        "model = KeyedVectors.load_word2vec_format(\"182/model.bin\", binary=True)"
      ],
      "execution_count": 0,
      "outputs": [
        {
          "output_type": "stream",
          "text": [
            "/usr/local/lib/python3.6/dist-packages/smart_open/smart_open_lib.py:402: UserWarning: This function is deprecated, use smart_open.open instead. See the migration notes for details: https://github.com/RaRe-Technologies/smart_open/blob/master/README.rst#migrating-to-the-new-open-function\n",
            "  'See the migration notes for details: %s' % _MIGRATION_NOTES_URL\n"
          ],
          "name": "stderr"
        }
      ]
    },
    {
      "cell_type": "code",
      "metadata": {
        "id": "pmBOvSCIvtYM",
        "colab_type": "code",
        "colab": {}
      },
      "source": [
        "from scipy.spatial.distance import cosine"
      ],
      "execution_count": 0,
      "outputs": []
    },
    {
      "cell_type": "code",
      "metadata": {
        "id": "iORg0sLyv-TL",
        "colab_type": "code",
        "outputId": "ac0d45b6-bde2-4b1c-80c6-f6765a71f7d3",
        "colab": {
          "base_uri": "https://localhost:8080/",
          "height": 34
        }
      },
      "source": [
        "cosine(model[\"помощь_NOUN\"], model[\"радость_NOUN\"])"
      ],
      "execution_count": 0,
      "outputs": [
        {
          "output_type": "execute_result",
          "data": {
            "text/plain": [
              "0.7697861045598984"
            ]
          },
          "metadata": {
            "tags": []
          },
          "execution_count": 6
        }
      ]
    },
    {
      "cell_type": "code",
      "metadata": {
        "id": "f_yIBLKawDmH",
        "colab_type": "code",
        "outputId": "f959ec2e-e778-4a43-8845-582f9414495c",
        "colab": {
          "base_uri": "https://localhost:8080/",
          "height": 34
        }
      },
      "source": [
        "cosine(model[\"помощь_NOUN\"], model[\"недовольство_NOUN\"])"
      ],
      "execution_count": 0,
      "outputs": [
        {
          "output_type": "execute_result",
          "data": {
            "text/plain": [
              "0.8310095369815826"
            ]
          },
          "metadata": {
            "tags": []
          },
          "execution_count": 7
        }
      ]
    }
  ]
}